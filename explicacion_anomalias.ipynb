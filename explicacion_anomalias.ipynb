{
 "cells": [
  {
   "cell_type": "markdown",
   "id": "f39ee98b",
   "metadata": {},
   "source": [
    "# 📘 Proyecto 05: Análisis de Anomalías en Notas"
   ]
  },
  {
   "cell_type": "markdown",
   "id": "432e8e90",
   "metadata": {},
   "source": [
    "Este notebook explica cómo se han detectado outliers en las calificaciones académicas usando estadísticas."
   ]
  },
  {
   "cell_type": "markdown",
   "id": "3cc775a4",
   "metadata": {},
   "source": [
    "## Dataset\n",
    "Cada estudiante tiene notas en 6 asignaturas. Se han introducido anomalías para demostrar el análisis."
   ]
  },
  {
   "cell_type": "markdown",
   "id": "f28b63d6",
   "metadata": {},
   "source": [
    "## Técnica utilizada: IQR\n",
    "Se calcula Q1, Q3 e IQR para detectar valores atípicos por asignatura."
   ]
  },
  {
   "cell_type": "markdown",
   "id": "4f09ed84",
   "metadata": {},
   "source": [
    "## Visualización\n",
    "Se genera un gráfico de tipo boxplot para representar las distribuciones de notas."
   ]
  },
  {
   "cell_type": "markdown",
   "id": "c0c9f695",
   "metadata": {},
   "source": [
    "## Conclusión\n",
    "La técnica aplicada ayuda a detectar registros inusuales o posibles errores de entrada."
   ]
  }
 ],
 "metadata": {
  "kernelspec": {
   "display_name": "Python 3",
   "language": "python",
   "name": "python3"
  },
  "language_info": {
   "name": "python",
   "version": "3.9"
  }
 },
 "nbformat": 4,
 "nbformat_minor": 5
}
